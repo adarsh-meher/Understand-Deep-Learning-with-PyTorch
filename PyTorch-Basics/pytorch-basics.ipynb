{
 "cells": [
  {
   "cell_type": "markdown",
   "metadata": {},
   "source": [
    "# Importing libraries"
   ]
  },
  {
   "cell_type": "code",
   "execution_count": 1,
   "metadata": {},
   "outputs": [],
   "source": [
    "import numpy as np\n",
    "import torch"
   ]
  },
  {
   "cell_type": "markdown",
   "metadata": {},
   "source": [
    "# Vector and Matrix operations in PyTorch"
   ]
  },
  {
   "cell_type": "code",
   "execution_count": 2,
   "metadata": {},
   "outputs": [
    {
     "name": "stdout",
     "output_type": "stream",
     "text": [
      "Tensor : tensor([4, 5, 6, 7, 8, 9])\n",
      "Tensor transpose : tensor([4, 5, 6, 7, 8, 9])\n",
      "Matrix : tensor([[ 1,  3,  5,  7,  9],\n",
      "        [ 2,  4,  6,  8, 10]])\n",
      "Matrix transpose : tensor([[ 1,  2],\n",
      "        [ 3,  4],\n",
      "        [ 5,  6],\n",
      "        [ 7,  8],\n",
      "        [ 9, 10]])\n"
     ]
    },
    {
     "name": "stderr",
     "output_type": "stream",
     "text": [
      "C:\\Users\\adars\\AppData\\Local\\Temp\\ipykernel_11416\\1157064616.py:6: UserWarning: The use of `x.T` on tensors of dimension other than 2 to reverse their shape is deprecated and it will throw an error in a future release. Consider `x.mT` to transpose batches of matricesor `x.permute(*torch.arange(x.ndim - 1, -1, -1))` to reverse the dimensions of a tensor. (Triggered internally at  C:\\cb\\pytorch_1000000000000\\work\\aten\\src\\ATen\\native\\TensorShape.cpp:2318.)\n",
      "  print(f\"Tensor transpose : {arr.T}\")\n"
     ]
    }
   ],
   "source": [
    "# create tensor array\n",
    "arr = torch.tensor( [4,5,6,7,8,9 ] )\n",
    "print(f\"Tensor : {arr}\")\n",
    "\n",
    "# transpose tensor\n",
    "print(f\"Tensor transpose : {arr.T}\")\n",
    "\n",
    "# create tensor matrix\n",
    "mat = torch.tensor([ [1,3,5,7,9],[2,4,6,8,10] ])\n",
    "print(f\"Matrix : {mat}\")\n",
    "\n",
    "# transpose matrix\n",
    "print(f\"Matrix transpose : {mat.T}\")"
   ]
  },
  {
   "cell_type": "code",
   "execution_count": 3,
   "metadata": {},
   "outputs": [
    {
     "name": "stdout",
     "output_type": "stream",
     "text": [
      "Dot product between two tensors : \n",
      "X : tensor([1, 4, 5, 2, 7, 8]) and \n",
      "Y : tensor([2, 3, 5, 6, 1, 9]) \n",
      "is : 130\n"
     ]
    }
   ],
   "source": [
    "# create two tensors\n",
    "x = torch.tensor([1,4,5,2,7,8])\n",
    "y = torch.tensor([2,3,5,6,1,9])\n",
    "\n",
    "# dot product between two tensors\n",
    "print(f\"Dot product between two tensors : \\nX : {x} and \\nY : {y} \\nis : {torch.dot(x,y)}\")"
   ]
  },
  {
   "cell_type": "code",
   "execution_count": 13,
   "metadata": {},
   "outputs": [
    {
     "name": "stdout",
     "output_type": "stream",
     "text": [
      "Matrices shape : \n",
      "A : torch.Size([3, 5])\n",
      "B : torch.Size([3, 7])\n",
      "C : torch.Size([7, 2])\n"
     ]
    }
   ],
   "source": [
    "# create random matrices\n",
    "A = torch.randn(3,5)\n",
    "B = torch.randn(3,7)\n",
    "C1 = np.random.randn(7,2)\n",
    "C = torch.tensor(C1,dtype=torch.float)\n",
    "\n",
    "print(f\"Matrices shape : \\nA : {A.shape}\\nB : {B.shape}\\nC : {C.shape}\")"
   ]
  },
  {
   "cell_type": "code",
   "execution_count": 17,
   "metadata": {},
   "outputs": [
    {
     "name": "stdout",
     "output_type": "stream",
     "text": [
      "tensor([[ 0.5400, -1.0500,  1.4400,  0.4600,  0.5100, -0.7000, -1.5700],\n",
      "        [-0.7700,  3.9600, -3.8200, -1.0200,  1.9900,  1.9300, -1.4500],\n",
      "        [ 0.3400, -0.4600,  0.8600,  0.1200,  0.5000, -0.4000, -0.4600],\n",
      "        [ 0.7500,  2.4400, -0.1200, -0.8700,  4.8300,  0.2600, -2.4100],\n",
      "        [ 0.7400, -0.8400,  1.7500,  0.2700,  1.3100, -0.8100, -1.4100]])\n",
      "tensor([[ 2.3400, -3.1400],\n",
      "        [-4.5500, -1.0100],\n",
      "        [ 0.7900, -4.0200]], dtype=torch.float64)\n"
     ]
    }
   ],
   "source": [
    "# matrix multiplication of pytorch tensors\n",
    "print(np.round(A.T@B,2))\n",
    "print(np.round(B@C1,2))"
   ]
  },
  {
   "cell_type": "code",
   "execution_count": null,
   "metadata": {},
   "outputs": [],
   "source": []
  },
  {
   "cell_type": "code",
   "execution_count": null,
   "metadata": {},
   "outputs": [],
   "source": []
  },
  {
   "cell_type": "code",
   "execution_count": null,
   "metadata": {},
   "outputs": [],
   "source": []
  },
  {
   "cell_type": "code",
   "execution_count": null,
   "metadata": {},
   "outputs": [],
   "source": []
  },
  {
   "cell_type": "code",
   "execution_count": null,
   "metadata": {},
   "outputs": [],
   "source": []
  },
  {
   "cell_type": "code",
   "execution_count": null,
   "metadata": {},
   "outputs": [],
   "source": []
  },
  {
   "cell_type": "code",
   "execution_count": null,
   "metadata": {},
   "outputs": [],
   "source": []
  },
  {
   "cell_type": "code",
   "execution_count": null,
   "metadata": {},
   "outputs": [],
   "source": []
  },
  {
   "cell_type": "code",
   "execution_count": null,
   "metadata": {},
   "outputs": [],
   "source": []
  },
  {
   "cell_type": "code",
   "execution_count": null,
   "metadata": {},
   "outputs": [],
   "source": []
  },
  {
   "cell_type": "code",
   "execution_count": null,
   "metadata": {},
   "outputs": [],
   "source": []
  },
  {
   "cell_type": "code",
   "execution_count": null,
   "metadata": {},
   "outputs": [],
   "source": []
  },
  {
   "cell_type": "code",
   "execution_count": null,
   "metadata": {},
   "outputs": [],
   "source": []
  },
  {
   "cell_type": "code",
   "execution_count": null,
   "metadata": {},
   "outputs": [],
   "source": []
  },
  {
   "cell_type": "code",
   "execution_count": null,
   "metadata": {},
   "outputs": [],
   "source": []
  }
 ],
 "metadata": {
  "kernelspec": {
   "display_name": "Python 3.8.3 ('base')",
   "language": "python",
   "name": "python3"
  },
  "language_info": {
   "codemirror_mode": {
    "name": "ipython",
    "version": 3
   },
   "file_extension": ".py",
   "mimetype": "text/x-python",
   "name": "python",
   "nbconvert_exporter": "python",
   "pygments_lexer": "ipython3",
   "version": "3.8.3"
  },
  "orig_nbformat": 4,
  "vscode": {
   "interpreter": {
    "hash": "4f76be80567250ef020264f67a4ffc851146841a04270231317fab593439cf08"
   }
  }
 },
 "nbformat": 4,
 "nbformat_minor": 2
}
